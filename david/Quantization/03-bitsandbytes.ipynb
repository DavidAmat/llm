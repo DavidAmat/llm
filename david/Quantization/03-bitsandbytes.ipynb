{
 "cells": [
  {
   "cell_type": "code",
   "execution_count": 1,
   "metadata": {},
   "outputs": [
    {
     "name": "stderr",
     "output_type": "stream",
     "text": [
      "/home/david/anaconda3/envs/r_quantization/lib/python3.10/site-packages/tqdm/auto.py:21: TqdmWarning: IProgress not found. Please update jupyter and ipywidgets. See https://ipywidgets.readthedocs.io/en/stable/user_install.html\n",
      "  from .autonotebook import tqdm as notebook_tqdm\n"
     ]
    },
    {
     "data": {
      "text/plain": [
       "<torch._C.Generator at 0x704a44baaa70>"
      ]
     },
     "execution_count": 1,
     "metadata": {},
     "output_type": "execute_result"
    }
   ],
   "source": [
    "from transformers import AutoModelForCausalLM, AutoTokenizer\n",
    "import torch\n",
    "torch.manual_seed(0)"
   ]
  },
  {
   "cell_type": "code",
   "execution_count": 4,
   "metadata": {},
   "outputs": [
    {
     "name": "stderr",
     "output_type": "stream",
     "text": [
      "The `load_in_4bit` and `load_in_8bit` arguments are deprecated and will be removed in the future versions. Please, pass a `BitsAndBytesConfig` object in `quantization_config` argument instead.\n"
     ]
    }
   ],
   "source": [
    "model_id = 'gpt2'\n",
    "device = 'cuda' if torch.cuda.is_available() else 'cpu'\n",
    "\n",
    "# Load the model directly in 8-bit mode and assign it to the device\n",
    "model_int8 = AutoModelForCausalLM.from_pretrained(\n",
    "    model_id,\n",
    "    device_map='auto',\n",
    "    load_in_8bit=True\n",
    ")"
   ]
  },
  {
   "cell_type": "code",
   "execution_count": 5,
   "metadata": {},
   "outputs": [
    {
     "name": "stdout",
     "output_type": "stream",
     "text": [
      "Model size: 176,527,896 bytes\n"
     ]
    }
   ],
   "source": [
    "# Print memory footprint\n",
    "try:\n",
    "    print(f\"Model size: {model_int8.get_memory_footprint():,} bytes\")\n",
    "except AttributeError:\n",
    "    print(\"Model size information is not available for 8-bit models.\")"
   ]
  },
  {
   "cell_type": "code",
   "execution_count": 7,
   "metadata": {},
   "outputs": [],
   "source": [
    "# Ensure the type of weights in model_int8 is int8\n",
    "dtype_set = set(param.dtype for param in model_int8.parameters())"
   ]
  },
  {
   "cell_type": "code",
   "execution_count": 8,
   "metadata": {},
   "outputs": [
    {
     "data": {
      "text/plain": [
       "{torch.float16, torch.int8}"
      ]
     },
     "execution_count": 8,
     "metadata": {},
     "output_type": "execute_result"
    }
   ],
   "source": [
    "dtype_set"
   ]
  },
  {
   "cell_type": "code",
   "execution_count": 9,
   "metadata": {},
   "outputs": [],
   "source": [
    "# Create a list of tupples with the model parameters indicating layer name and the type of the weights\n",
    "model_int8_params = [(name, param.dtype) for name, param in model_int8.named_parameters()]"
   ]
  },
  {
   "cell_type": "code",
   "execution_count": 10,
   "metadata": {},
   "outputs": [
    {
     "data": {
      "text/plain": [
       "[('transformer.wte.weight', torch.float16),\n",
       " ('transformer.wpe.weight', torch.float16),\n",
       " ('transformer.h.0.ln_1.weight', torch.float16),\n",
       " ('transformer.h.0.ln_1.bias', torch.float16),\n",
       " ('transformer.h.0.attn.c_attn.weight', torch.int8),\n",
       " ('transformer.h.0.attn.c_attn.bias', torch.float16),\n",
       " ('transformer.h.0.attn.c_proj.weight', torch.int8),\n",
       " ('transformer.h.0.attn.c_proj.bias', torch.float16),\n",
       " ('transformer.h.0.ln_2.weight', torch.float16),\n",
       " ('transformer.h.0.ln_2.bias', torch.float16),\n",
       " ('transformer.h.0.mlp.c_fc.weight', torch.int8),\n",
       " ('transformer.h.0.mlp.c_fc.bias', torch.float16),\n",
       " ('transformer.h.0.mlp.c_proj.weight', torch.int8),\n",
       " ('transformer.h.0.mlp.c_proj.bias', torch.float16),\n",
       " ('transformer.h.1.ln_1.weight', torch.float16),\n",
       " ('transformer.h.1.ln_1.bias', torch.float16),\n",
       " ('transformer.h.1.attn.c_attn.weight', torch.int8),\n",
       " ('transformer.h.1.attn.c_attn.bias', torch.float16),\n",
       " ('transformer.h.1.attn.c_proj.weight', torch.int8),\n",
       " ('transformer.h.1.attn.c_proj.bias', torch.float16),\n",
       " ('transformer.h.1.ln_2.weight', torch.float16),\n",
       " ('transformer.h.1.ln_2.bias', torch.float16),\n",
       " ('transformer.h.1.mlp.c_fc.weight', torch.int8),\n",
       " ('transformer.h.1.mlp.c_fc.bias', torch.float16),\n",
       " ('transformer.h.1.mlp.c_proj.weight', torch.int8),\n",
       " ('transformer.h.1.mlp.c_proj.bias', torch.float16),\n",
       " ('transformer.h.2.ln_1.weight', torch.float16),\n",
       " ('transformer.h.2.ln_1.bias', torch.float16),\n",
       " ('transformer.h.2.attn.c_attn.weight', torch.int8),\n",
       " ('transformer.h.2.attn.c_attn.bias', torch.float16),\n",
       " ('transformer.h.2.attn.c_proj.weight', torch.int8),\n",
       " ('transformer.h.2.attn.c_proj.bias', torch.float16),\n",
       " ('transformer.h.2.ln_2.weight', torch.float16),\n",
       " ('transformer.h.2.ln_2.bias', torch.float16),\n",
       " ('transformer.h.2.mlp.c_fc.weight', torch.int8),\n",
       " ('transformer.h.2.mlp.c_fc.bias', torch.float16),\n",
       " ('transformer.h.2.mlp.c_proj.weight', torch.int8),\n",
       " ('transformer.h.2.mlp.c_proj.bias', torch.float16),\n",
       " ('transformer.h.3.ln_1.weight', torch.float16),\n",
       " ('transformer.h.3.ln_1.bias', torch.float16),\n",
       " ('transformer.h.3.attn.c_attn.weight', torch.int8),\n",
       " ('transformer.h.3.attn.c_attn.bias', torch.float16),\n",
       " ('transformer.h.3.attn.c_proj.weight', torch.int8),\n",
       " ('transformer.h.3.attn.c_proj.bias', torch.float16),\n",
       " ('transformer.h.3.ln_2.weight', torch.float16),\n",
       " ('transformer.h.3.ln_2.bias', torch.float16),\n",
       " ('transformer.h.3.mlp.c_fc.weight', torch.int8),\n",
       " ('transformer.h.3.mlp.c_fc.bias', torch.float16),\n",
       " ('transformer.h.3.mlp.c_proj.weight', torch.int8),\n",
       " ('transformer.h.3.mlp.c_proj.bias', torch.float16),\n",
       " ('transformer.h.4.ln_1.weight', torch.float16),\n",
       " ('transformer.h.4.ln_1.bias', torch.float16),\n",
       " ('transformer.h.4.attn.c_attn.weight', torch.int8),\n",
       " ('transformer.h.4.attn.c_attn.bias', torch.float16),\n",
       " ('transformer.h.4.attn.c_proj.weight', torch.int8),\n",
       " ('transformer.h.4.attn.c_proj.bias', torch.float16),\n",
       " ('transformer.h.4.ln_2.weight', torch.float16),\n",
       " ('transformer.h.4.ln_2.bias', torch.float16),\n",
       " ('transformer.h.4.mlp.c_fc.weight', torch.int8),\n",
       " ('transformer.h.4.mlp.c_fc.bias', torch.float16),\n",
       " ('transformer.h.4.mlp.c_proj.weight', torch.int8),\n",
       " ('transformer.h.4.mlp.c_proj.bias', torch.float16),\n",
       " ('transformer.h.5.ln_1.weight', torch.float16),\n",
       " ('transformer.h.5.ln_1.bias', torch.float16),\n",
       " ('transformer.h.5.attn.c_attn.weight', torch.int8),\n",
       " ('transformer.h.5.attn.c_attn.bias', torch.float16),\n",
       " ('transformer.h.5.attn.c_proj.weight', torch.int8),\n",
       " ('transformer.h.5.attn.c_proj.bias', torch.float16),\n",
       " ('transformer.h.5.ln_2.weight', torch.float16),\n",
       " ('transformer.h.5.ln_2.bias', torch.float16),\n",
       " ('transformer.h.5.mlp.c_fc.weight', torch.int8),\n",
       " ('transformer.h.5.mlp.c_fc.bias', torch.float16),\n",
       " ('transformer.h.5.mlp.c_proj.weight', torch.int8),\n",
       " ('transformer.h.5.mlp.c_proj.bias', torch.float16),\n",
       " ('transformer.h.6.ln_1.weight', torch.float16),\n",
       " ('transformer.h.6.ln_1.bias', torch.float16),\n",
       " ('transformer.h.6.attn.c_attn.weight', torch.int8),\n",
       " ('transformer.h.6.attn.c_attn.bias', torch.float16),\n",
       " ('transformer.h.6.attn.c_proj.weight', torch.int8),\n",
       " ('transformer.h.6.attn.c_proj.bias', torch.float16),\n",
       " ('transformer.h.6.ln_2.weight', torch.float16),\n",
       " ('transformer.h.6.ln_2.bias', torch.float16),\n",
       " ('transformer.h.6.mlp.c_fc.weight', torch.int8),\n",
       " ('transformer.h.6.mlp.c_fc.bias', torch.float16),\n",
       " ('transformer.h.6.mlp.c_proj.weight', torch.int8),\n",
       " ('transformer.h.6.mlp.c_proj.bias', torch.float16),\n",
       " ('transformer.h.7.ln_1.weight', torch.float16),\n",
       " ('transformer.h.7.ln_1.bias', torch.float16),\n",
       " ('transformer.h.7.attn.c_attn.weight', torch.int8),\n",
       " ('transformer.h.7.attn.c_attn.bias', torch.float16),\n",
       " ('transformer.h.7.attn.c_proj.weight', torch.int8),\n",
       " ('transformer.h.7.attn.c_proj.bias', torch.float16),\n",
       " ('transformer.h.7.ln_2.weight', torch.float16),\n",
       " ('transformer.h.7.ln_2.bias', torch.float16),\n",
       " ('transformer.h.7.mlp.c_fc.weight', torch.int8),\n",
       " ('transformer.h.7.mlp.c_fc.bias', torch.float16),\n",
       " ('transformer.h.7.mlp.c_proj.weight', torch.int8),\n",
       " ('transformer.h.7.mlp.c_proj.bias', torch.float16),\n",
       " ('transformer.h.8.ln_1.weight', torch.float16),\n",
       " ('transformer.h.8.ln_1.bias', torch.float16),\n",
       " ('transformer.h.8.attn.c_attn.weight', torch.int8),\n",
       " ('transformer.h.8.attn.c_attn.bias', torch.float16),\n",
       " ('transformer.h.8.attn.c_proj.weight', torch.int8),\n",
       " ('transformer.h.8.attn.c_proj.bias', torch.float16),\n",
       " ('transformer.h.8.ln_2.weight', torch.float16),\n",
       " ('transformer.h.8.ln_2.bias', torch.float16),\n",
       " ('transformer.h.8.mlp.c_fc.weight', torch.int8),\n",
       " ('transformer.h.8.mlp.c_fc.bias', torch.float16),\n",
       " ('transformer.h.8.mlp.c_proj.weight', torch.int8),\n",
       " ('transformer.h.8.mlp.c_proj.bias', torch.float16),\n",
       " ('transformer.h.9.ln_1.weight', torch.float16),\n",
       " ('transformer.h.9.ln_1.bias', torch.float16),\n",
       " ('transformer.h.9.attn.c_attn.weight', torch.int8),\n",
       " ('transformer.h.9.attn.c_attn.bias', torch.float16),\n",
       " ('transformer.h.9.attn.c_proj.weight', torch.int8),\n",
       " ('transformer.h.9.attn.c_proj.bias', torch.float16),\n",
       " ('transformer.h.9.ln_2.weight', torch.float16),\n",
       " ('transformer.h.9.ln_2.bias', torch.float16),\n",
       " ('transformer.h.9.mlp.c_fc.weight', torch.int8),\n",
       " ('transformer.h.9.mlp.c_fc.bias', torch.float16),\n",
       " ('transformer.h.9.mlp.c_proj.weight', torch.int8),\n",
       " ('transformer.h.9.mlp.c_proj.bias', torch.float16),\n",
       " ('transformer.h.10.ln_1.weight', torch.float16),\n",
       " ('transformer.h.10.ln_1.bias', torch.float16),\n",
       " ('transformer.h.10.attn.c_attn.weight', torch.int8),\n",
       " ('transformer.h.10.attn.c_attn.bias', torch.float16),\n",
       " ('transformer.h.10.attn.c_proj.weight', torch.int8),\n",
       " ('transformer.h.10.attn.c_proj.bias', torch.float16),\n",
       " ('transformer.h.10.ln_2.weight', torch.float16),\n",
       " ('transformer.h.10.ln_2.bias', torch.float16),\n",
       " ('transformer.h.10.mlp.c_fc.weight', torch.int8),\n",
       " ('transformer.h.10.mlp.c_fc.bias', torch.float16),\n",
       " ('transformer.h.10.mlp.c_proj.weight', torch.int8),\n",
       " ('transformer.h.10.mlp.c_proj.bias', torch.float16),\n",
       " ('transformer.h.11.ln_1.weight', torch.float16),\n",
       " ('transformer.h.11.ln_1.bias', torch.float16),\n",
       " ('transformer.h.11.attn.c_attn.weight', torch.int8),\n",
       " ('transformer.h.11.attn.c_attn.bias', torch.float16),\n",
       " ('transformer.h.11.attn.c_proj.weight', torch.int8),\n",
       " ('transformer.h.11.attn.c_proj.bias', torch.float16),\n",
       " ('transformer.h.11.ln_2.weight', torch.float16),\n",
       " ('transformer.h.11.ln_2.bias', torch.float16),\n",
       " ('transformer.h.11.mlp.c_fc.weight', torch.int8),\n",
       " ('transformer.h.11.mlp.c_fc.bias', torch.float16),\n",
       " ('transformer.h.11.mlp.c_proj.weight', torch.int8),\n",
       " ('transformer.h.11.mlp.c_proj.bias', torch.float16),\n",
       " ('transformer.ln_f.weight', torch.float16),\n",
       " ('transformer.ln_f.bias', torch.float16)]"
      ]
     },
     "execution_count": 10,
     "metadata": {},
     "output_type": "execute_result"
    }
   ],
   "source": [
    "model_int8_params"
   ]
  },
  {
   "cell_type": "markdown",
   "metadata": {},
   "source": [
    "The presence of float16 layers in a model loaded with load_in_8bit=True occurs because the 8-bit quantization process in bitsandbytes is applied selectively, and not all layers are quantized."
   ]
  },
  {
   "cell_type": "markdown",
   "metadata": {},
   "source": [
    "1. Selective Quantization\n",
    "Not all parts of the model are quantized into INT8. Specifically:\n",
    "\n",
    "- Weights in linear layers (e.g., c_attn.weight, c_proj.weight) are quantized to INT8 because they involve large matrix multiplications, where memory and computation savings are most impactful.\n",
    "- Biases (e.g., c_attn.bias) and other parameters like layer norms (e.g., ln_1.weight, ln_1.bias) remain in FP16 or FP32:\n",
    "    - These parameters are not as computationally intensive.\n",
    "    - Quantizing biases and layer norm weights to INT8 can cause large numerical inaccuracies, negatively impacting model performance"
   ]
  },
  {
   "cell_type": "code",
   "execution_count": null,
   "metadata": {},
   "outputs": [],
   "source": []
  },
  {
   "cell_type": "code",
   "execution_count": null,
   "metadata": {},
   "outputs": [],
   "source": []
  },
  {
   "cell_type": "code",
   "execution_count": null,
   "metadata": {},
   "outputs": [],
   "source": []
  }
 ],
 "metadata": {
  "kernelspec": {
   "display_name": "kr_quantization",
   "language": "python",
   "name": "kr_quantization"
  },
  "language_info": {
   "codemirror_mode": {
    "name": "ipython",
    "version": 3
   },
   "file_extension": ".py",
   "mimetype": "text/x-python",
   "name": "python",
   "nbconvert_exporter": "python",
   "pygments_lexer": "ipython3",
   "version": "3.11.9"
  }
 },
 "nbformat": 4,
 "nbformat_minor": 2
}
