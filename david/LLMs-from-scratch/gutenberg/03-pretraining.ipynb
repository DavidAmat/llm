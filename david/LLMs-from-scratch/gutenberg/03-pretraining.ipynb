{
 "cells": [
  {
   "cell_type": "code",
   "execution_count": 1,
   "metadata": {},
   "outputs": [],
   "source": [
    "# Garbage collection and empty cache\n",
    "import gc\n",
    "import torch\n",
    "\n",
    "gc.collect()\n",
    "torch.cuda.empty_cache()"
   ]
  },
  {
   "cell_type": "code",
   "execution_count": 2,
   "metadata": {},
   "outputs": [],
   "source": [
    "import sys\n",
    "from pathlib import Path\n",
    "\n",
    "# Add the project root directory to the Python path\n",
    "project_root = Path.cwd().parent  # Adjust as needed to point to the parent directory of `scripts`\n",
    "sys.path.insert(0, str(project_root))"
   ]
  },
  {
   "cell_type": "code",
   "execution_count": 3,
   "metadata": {},
   "outputs": [
    {
     "data": {
      "text/plain": [
       "PosixPath('/home/david/Documents/data_science/llm/david/LLMs-from-scratch')"
      ]
     },
     "execution_count": 3,
     "metadata": {},
     "output_type": "execute_result"
    }
   ],
   "source": [
    "project_root"
   ]
  },
  {
   "cell_type": "code",
   "execution_count": 4,
   "metadata": {},
   "outputs": [],
   "source": [
    "import argparse\n",
    "import os\n",
    "from pathlib import Path\n",
    "import time\n",
    "import tiktoken\n",
    "import torch\n",
    "from previous_chapters import (\n",
    "    create_dataloader_v1,\n",
    "    GPTModel,\n",
    "    generate_and_print_sample,\n",
    "    calc_loss_batch,\n",
    "    evaluate_model,\n",
    "    plot_losses\n",
    ")\n"
   ]
  },
  {
   "cell_type": "code",
   "execution_count": 5,
   "metadata": {},
   "outputs": [],
   "source": [
    "\n",
    "def read_text_file(file_path):\n",
    "    with open(file_path, \"r\", encoding=\"utf-8\") as file:\n",
    "        text_data = file.read()\n",
    "    return text_data\n",
    "\n",
    "\n",
    "def create_dataloaders(text_data, train_ratio, batch_size, max_length, stride, num_workers=0):\n",
    "    split_idx = int(train_ratio * len(text_data))\n",
    "    train_loader = create_dataloader_v1(\n",
    "        text_data[:split_idx],\n",
    "        batch_size=batch_size,\n",
    "        max_length=max_length,\n",
    "        stride=stride,\n",
    "        drop_last=True,\n",
    "        shuffle=True,\n",
    "        num_workers=num_workers\n",
    "    )\n",
    "    val_loader = create_dataloader_v1(\n",
    "        text_data[split_idx:],\n",
    "        batch_size=batch_size,\n",
    "        max_length=max_length,\n",
    "        stride=stride,\n",
    "        drop_last=False,\n",
    "        shuffle=False,\n",
    "        num_workers=num_workers\n",
    "    )\n",
    "    return train_loader, val_loader\n",
    "\n",
    "\n",
    "def convert_time(seconds):\n",
    "    hours, rem = divmod(seconds, 3600)\n",
    "    minutes, seconds = divmod(rem, 60)\n",
    "    return int(hours), int(minutes), int(seconds)\n",
    "\n",
    "\n",
    "def print_eta(start_time, book_start_time, index, total_files):\n",
    "    book_end_time = time.time()  # End time of processing this book\n",
    "    elapsed_time = book_end_time - book_start_time\n",
    "    total_elapsed_time = book_end_time - start_time\n",
    "    books_remaining = total_files - index\n",
    "    average_time_per_book = total_elapsed_time / index\n",
    "    eta = average_time_per_book * books_remaining\n",
    "\n",
    "    book_h, book_m, book_s = convert_time(elapsed_time)\n",
    "    total_h, total_m, total_s = convert_time(total_elapsed_time)\n",
    "    eta_h, eta_m, eta_s = convert_time(eta)\n",
    "\n",
    "    print(f\"Book processed {book_h}h {book_m}m {book_s}s\"\n",
    "          f\"\\nTotal time elapsed {total_h}h {total_m}m {total_s}s\"\n",
    "          f\"\\nETA for remaining books: {eta_h}h {eta_m}m {eta_s}s\")\n"
   ]
  },
  {
   "cell_type": "code",
   "execution_count": 6,
   "metadata": {},
   "outputs": [
    {
     "name": "stdout",
     "output_type": "stream",
     "text": [
      "/home/david/Documents/data_science/llm/david/LLMs-from-scratch/gutenberg\n"
     ]
    }
   ],
   "source": [
    "!pwd"
   ]
  },
  {
   "cell_type": "code",
   "execution_count": 7,
   "metadata": {},
   "outputs": [],
   "source": [
    "# Fixed variables with default values\n",
    "data_dir = \"/home/david/Documents/data_science/datasets/gutenberg/gutenberg_preprocessed\"  # Directory containing the training data\n",
    "output_dir = \"model_checkpoints\"  # Directory where the model checkpoints will be saved\n",
    "n_epochs = 1  # Number of epochs to train the model\n",
    "print_sample_iter = 1000  # Iterations between printing sample outputs\n",
    "eval_freq = 100  # Frequency of evaluations during training\n",
    "save_ckpt_freq = 100_000  # Frequency of saving model checkpoints during training\n",
    "lr = 5e-4  # Learning rate for the optimizer\n",
    "batch_size = 4  # Batch size for training\n",
    "debug = False  # Uses a very small model for debugging purposes\n"
   ]
  },
  {
   "cell_type": "markdown",
   "metadata": {},
   "source": [
    "We will initialize this small one (see the 03_pretraining.py for the big GPT model)"
   ]
  },
  {
   "cell_type": "code",
   "execution_count": 8,
   "metadata": {},
   "outputs": [],
   "source": [
    "GPT_CONFIG_124M = {\n",
    "    \"vocab_size\": 50257,     # Vocabulary size\n",
    "    \"context_length\": 10,    # Context length\n",
    "    \"emb_dim\": 12,           # Embedding dimension\n",
    "    \"n_heads\": 2,            # Number of attention heads\n",
    "    \"n_layers\": 2,           # Number of layers\n",
    "    \"drop_rate\": 0.0,        # Dropout rate, deactivated via 0.0 as dropout in LLMs is not recommended anymore\n",
    "    \"qkv_bias\": False        # Query-key-value bias\n",
    "}"
   ]
  },
  {
   "cell_type": "code",
   "execution_count": 9,
   "metadata": {},
   "outputs": [
    {
     "data": {
      "text/plain": [
       "<torch._C.Generator at 0x74bb6b5dc850>"
      ]
     },
     "execution_count": 9,
     "metadata": {},
     "output_type": "execute_result"
    }
   ],
   "source": [
    "device = torch.device(\"cuda\" if torch.cuda.is_available() else \"cpu\")\n",
    "torch.manual_seed(123)"
   ]
  },
  {
   "cell_type": "code",
   "execution_count": 10,
   "metadata": {},
   "outputs": [],
   "source": [
    "model = GPTModel(GPT_CONFIG_124M)\n",
    "model.to(device);"
   ]
  },
  {
   "cell_type": "code",
   "execution_count": 11,
   "metadata": {},
   "outputs": [],
   "source": [
    "optimizer = torch.optim.AdamW(model.parameters(), lr=lr, weight_decay=0.1)\n",
    "tokenizer = tiktoken.get_encoding(\"gpt2\")"
   ]
  },
  {
   "cell_type": "code",
   "execution_count": 12,
   "metadata": {},
   "outputs": [
    {
     "name": "stdout",
     "output_type": "stream",
     "text": [
      "Total files: 1\n"
     ]
    }
   ],
   "source": [
    "all_files = [os.path.join(path, name) for path, subdirs, files\n",
    "                 in os.walk(data_dir) for name in files if name.endswith((\".txt\"))]\n",
    "total_files = len(all_files)\n",
    "print(\"Total files:\", total_files)"
   ]
  },
  {
   "cell_type": "code",
   "execution_count": 13,
   "metadata": {},
   "outputs": [],
   "source": [
    "output_dir = Path(output_dir)\n",
    "output_dir.mkdir(parents=True, exist_ok=True)"
   ]
  },
  {
   "cell_type": "markdown",
   "metadata": {},
   "source": [
    "### Train Simple"
   ]
  },
  {
   "cell_type": "code",
   "execution_count": 14,
   "metadata": {},
   "outputs": [],
   "source": [
    "# train_losses, val_losses, tokens_seen = train_model_simple(\n",
    "#     model, optimizer, device,\n",
    "#     batch_size=args.batch_size,\n",
    "#     n_epochs=args.n_epochs,\n",
    "#     eval_freq=args.eval_freq,\n",
    "#     eval_iter=1,\n",
    "#     print_sample_iter=args.print_sample_iter,\n",
    "#     output_dir=output_dir,\n",
    "#     save_ckpt_freq=args.save_ckpt_freq,\n",
    "#     start_context=\"Every effort moves you\",\n",
    "#     tokenizer=tokenizer\n",
    "# )"
   ]
  },
  {
   "cell_type": "code",
   "execution_count": 15,
   "metadata": {},
   "outputs": [],
   "source": [
    "train_losses, val_losses, track_tokens_seen = [], [], []\n",
    "tokens_seen = 0\n",
    "global_step = -1\n",
    "start_time = time.time()"
   ]
  },
  {
   "cell_type": "code",
   "execution_count": 16,
   "metadata": {},
   "outputs": [],
   "source": [
    "epoch = 0"
   ]
  },
  {
   "cell_type": "code",
   "execution_count": 17,
   "metadata": {},
   "outputs": [],
   "source": [
    " # Iterate over the books in the training corpus\n",
    "for index, file_path in enumerate(all_files, 1):\n",
    "    break"
   ]
  },
  {
   "cell_type": "code",
   "execution_count": 18,
   "metadata": {},
   "outputs": [
    {
     "data": {
      "text/plain": [
       "'/home/david/Documents/data_science/datasets/gutenberg/gutenberg_preprocessed/combined_1.txt'"
      ]
     },
     "execution_count": 18,
     "metadata": {},
     "output_type": "execute_result"
    }
   ],
   "source": [
    "file_path"
   ]
  },
  {
   "cell_type": "code",
   "execution_count": 19,
   "metadata": {},
   "outputs": [
    {
     "data": {
      "text/plain": [
       "1"
      ]
     },
     "execution_count": 19,
     "metadata": {},
     "output_type": "execute_result"
    }
   ],
   "source": [
    "index"
   ]
  },
  {
   "cell_type": "code",
   "execution_count": 20,
   "metadata": {},
   "outputs": [
    {
     "name": "stdout",
     "output_type": "stream",
     "text": [
      "Tokenizing file 1 of 1: /home/david/Documents/data_science/datasets/gutenberg/gutenberg_preprocessed/combined_1.txt\n"
     ]
    }
   ],
   "source": [
    "book_start_time = time.time()\n",
    "text_data = read_text_file(file_path) + \" <|endoftext|> \"\n",
    "print(f\"Tokenizing file {index} of {total_files}: {file_path}\")"
   ]
  },
  {
   "cell_type": "code",
   "execution_count": 21,
   "metadata": {},
   "outputs": [],
   "source": [
    "batch_size=1024\n",
    "train_ratio=0.90"
   ]
  },
  {
   "cell_type": "code",
   "execution_count": 22,
   "metadata": {},
   "outputs": [],
   "source": [
    "# Initialize new data loaders for each book\n",
    "train_loader, val_loader = create_dataloaders(\n",
    "    text_data,\n",
    "    train_ratio=train_ratio,\n",
    "    batch_size=batch_size,\n",
    "    max_length=GPT_CONFIG_124M[\"context_length\"],\n",
    "    stride=GPT_CONFIG_124M[\"context_length\"],\n",
    "    num_workers=0\n",
    ")"
   ]
  },
  {
   "cell_type": "code",
   "execution_count": 23,
   "metadata": {},
   "outputs": [],
   "source": [
    "for input_batch, target_batch in train_loader:\n",
    "    break"
   ]
  },
  {
   "cell_type": "code",
   "execution_count": 24,
   "metadata": {},
   "outputs": [
    {
     "data": {
      "text/plain": [
       "tensor([[  198,  1870,   484,  ...,   649, 45173,    11],\n",
       "        [ 3100,  2004,  1194,  ...,   303,   329,   326],\n",
       "        [37497,   262, 41660,  ...,   584, 20668, 32789],\n",
       "        ...,\n",
       "        [  262,  2607,   286,  ...,   286, 12139,   262],\n",
       "        [   11,   290,  2627,  ...,   340,    13,   198],\n",
       "        [   22,    25,  1157,  ...,   656,   257, 15299]])"
      ]
     },
     "execution_count": 24,
     "metadata": {},
     "output_type": "execute_result"
    }
   ],
   "source": [
    "input_batch"
   ]
  },
  {
   "cell_type": "code",
   "execution_count": 25,
   "metadata": {},
   "outputs": [
    {
     "data": {
      "text/plain": [
       "tensor([[ 1870,   484,  5421,  ..., 45173,    11,   290],\n",
       "        [ 2004,  1194,   880,  ...,   329,   326,   635],\n",
       "        [  262, 41660, 20668,  ..., 20668, 32789,   198],\n",
       "        ...,\n",
       "        [ 2607,   286, 15987,  ..., 12139,   262, 11503],\n",
       "        [  290,  2627,   198,  ...,    13,   198,   198],\n",
       "        [   25,  1157, 20908,  ...,   257, 15299,   286]])"
      ]
     },
     "execution_count": 25,
     "metadata": {},
     "output_type": "execute_result"
    }
   ],
   "source": [
    "target_batch"
   ]
  },
  {
   "cell_type": "code",
   "execution_count": 26,
   "metadata": {},
   "outputs": [
    {
     "data": {
      "text/plain": [
       "torch.Size([1024, 10])"
      ]
     },
     "execution_count": 26,
     "metadata": {},
     "output_type": "execute_result"
    }
   ],
   "source": [
    "input_batch.shape"
   ]
  },
  {
   "cell_type": "code",
   "execution_count": 27,
   "metadata": {},
   "outputs": [
    {
     "data": {
      "text/plain": [
       "torch.Size([1024, 10])"
      ]
     },
     "execution_count": 27,
     "metadata": {},
     "output_type": "execute_result"
    }
   ],
   "source": [
    "target_batch.shape"
   ]
  },
  {
   "cell_type": "code",
   "execution_count": 28,
   "metadata": {},
   "outputs": [],
   "source": [
    "loss = calc_loss_batch(input_batch, target_batch, model, device)"
   ]
  },
  {
   "cell_type": "code",
   "execution_count": 29,
   "metadata": {},
   "outputs": [
    {
     "data": {
      "text/plain": [
       "tensor(10.9594, device='cuda:0', grad_fn=<NllLossBackward0>)"
      ]
     },
     "execution_count": 29,
     "metadata": {},
     "output_type": "execute_result"
    }
   ],
   "source": [
    "loss"
   ]
  },
  {
   "cell_type": "code",
   "execution_count": 30,
   "metadata": {},
   "outputs": [],
   "source": [
    "loss.backward()"
   ]
  },
  {
   "cell_type": "code",
   "execution_count": 31,
   "metadata": {},
   "outputs": [],
   "source": [
    "optimizer.step()"
   ]
  },
  {
   "cell_type": "code",
   "execution_count": 32,
   "metadata": {},
   "outputs": [],
   "source": [
    "tokens_seen += input_batch.numel()"
   ]
  },
  {
   "cell_type": "code",
   "execution_count": 33,
   "metadata": {},
   "outputs": [
    {
     "data": {
      "text/plain": [
       "10240"
      ]
     },
     "execution_count": 33,
     "metadata": {},
     "output_type": "execute_result"
    }
   ],
   "source": [
    "tokens_seen"
   ]
  },
  {
   "cell_type": "code",
   "execution_count": 34,
   "metadata": {},
   "outputs": [],
   "source": [
    "global_step += 1"
   ]
  },
  {
   "cell_type": "code",
   "execution_count": 35,
   "metadata": {},
   "outputs": [
    {
     "data": {
      "text/plain": [
       "100"
      ]
     },
     "execution_count": 35,
     "metadata": {},
     "output_type": "execute_result"
    }
   ],
   "source": [
    "eval_freq"
   ]
  },
  {
   "cell_type": "code",
   "execution_count": 36,
   "metadata": {},
   "outputs": [],
   "source": [
    "# Evaluation step\n",
    "eval_iter=1\n",
    "train_loss, val_loss = evaluate_model(model, train_loader, val_loader, device, eval_iter)"
   ]
  },
  {
   "cell_type": "code",
   "execution_count": 37,
   "metadata": {},
   "outputs": [
    {
     "name": "stdout",
     "output_type": "stream",
     "text": [
      "Ep 1 (Step 0): Train loss 10.933, Val loss 10.929\n"
     ]
    }
   ],
   "source": [
    "print(f\"Ep {epoch+1} (Step {global_step}): \"\n",
    "                              f\"Train loss {train_loss:.3f}, Val loss {val_loss:.3f}\")"
   ]
  },
  {
   "cell_type": "code",
   "execution_count": 38,
   "metadata": {},
   "outputs": [
    {
     "name": "stdout",
     "output_type": "stream",
     "text": [
      "Every effort moves you executedrolley Duncan Shrine Sets acquitted Census interorian656 Wastelandstretched\"></ Correctional directing smellingination OrbAngel LAR envelope192Weight LAR demonstrations Recorded Wasteland Astron.).oise striving templateface Somination OrbAngel LAR envelope192Weight LAR envelope192Weightsuggest cabal restoreossiblysuggest\n"
     ]
    }
   ],
   "source": [
    "start_context = \"Every effort moves you\"\n",
    "generate_and_print_sample(\n",
    "    model, tokenizer, device, start_context\n",
    ")"
   ]
  },
  {
   "cell_type": "markdown",
   "metadata": {},
   "source": [
    "### Plot losses"
   ]
  },
  {
   "cell_type": "code",
   "execution_count": 50,
   "metadata": {},
   "outputs": [],
   "source": [
    "train_losses = [1, 0.9, 0.7, 0.6]\n",
    "val_losses = [0.8, 0.7, 0.6, 0.5]\n",
    "tokens_seen = [0, 1000, 2000, 3000]\n",
    "epochs_tensor = torch.linspace(0, n_epochs, len(train_losses))"
   ]
  },
  {
   "cell_type": "code",
   "execution_count": 51,
   "metadata": {},
   "outputs": [
    {
     "data": {
      "text/plain": [
       "[1, 0.9, 0.7, 0.6]"
      ]
     },
     "execution_count": 51,
     "metadata": {},
     "output_type": "execute_result"
    }
   ],
   "source": [
    "train_losses"
   ]
  },
  {
   "cell_type": "code",
   "execution_count": 52,
   "metadata": {},
   "outputs": [
    {
     "data": {
      "text/plain": [
       "1"
      ]
     },
     "execution_count": 52,
     "metadata": {},
     "output_type": "execute_result"
    }
   ],
   "source": [
    "n_epochs"
   ]
  },
  {
   "cell_type": "code",
   "execution_count": 53,
   "metadata": {},
   "outputs": [
    {
     "data": {
      "text/plain": [
       "tensor([0.0000, 0.3333, 0.6667, 1.0000])"
      ]
     },
     "execution_count": 53,
     "metadata": {},
     "output_type": "execute_result"
    }
   ],
   "source": [
    "epochs_tensor"
   ]
  },
  {
   "cell_type": "code",
   "execution_count": 54,
   "metadata": {},
   "outputs": [
    {
     "data": {
      "image/png": "[encoded data removed]",
      "text/plain": [
       "<Figure size 640x480 with 2 Axes>"
      ]
     },
     "metadata": {},
     "output_type": "display_data"
    }
   ],
   "source": [
    "plot_losses(epochs_tensor, tokens_seen, train_losses, val_losses, output_dir)"
   ]
  },
  {
   "cell_type": "code",
   "execution_count": null,
   "metadata": {},
   "outputs": [],
   "source": []
  }
 ],
 "metadata": {
  "kernelspec": {
   "display_name": "kr_llmfs",
   "language": "python",
   "name": "kr_llmfs"
  },
  "language_info": {
   "codemirror_mode": {
    "name": "ipython",
    "version": 3
   },
   "file_extension": ".py",
   "mimetype": "text/x-python",
   "name": "python",
   "nbconvert_exporter": "python",
   "pygments_lexer": "ipython3",
   "version": "3.10.12"
  }
 },
 "nbformat": 4,
 "nbformat_minor": 2
}
