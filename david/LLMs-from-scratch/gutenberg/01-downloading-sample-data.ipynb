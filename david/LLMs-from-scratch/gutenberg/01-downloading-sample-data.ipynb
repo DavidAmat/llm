{
 "cells": [
  {
   "cell_type": "code",
   "execution_count": 5,
   "metadata": {},
   "outputs": [],
   "source": [
    "import os\n",
    "import re\n",
    "from tqdm import tqdm\n",
    "import pandas as pd\n",
    "import json"
   ]
  },
  {
   "cell_type": "code",
   "execution_count": 6,
   "metadata": {},
   "outputs": [],
   "source": [
    "# !curl -O https://hugovk.github.io/gutenberg-metadata/gutenberg-metadata.json gutenberg-metadata.json"
   ]
  },
  {
   "cell_type": "code",
   "execution_count": 8,
   "metadata": {},
   "outputs": [],
   "source": [
    "metadata = json.load(open('gutenberg-metadata.json'))"
   ]
  },
  {
   "cell_type": "code",
   "execution_count": 9,
   "metadata": {},
   "outputs": [
    {
     "data": {
      "text/plain": [
       "68502"
      ]
     },
     "execution_count": 9,
     "metadata": {},
     "output_type": "execute_result"
    }
   ],
   "source": [
    "len(metadata)"
   ]
  },
  {
   "cell_type": "code",
   "execution_count": 10,
   "metadata": {},
   "outputs": [],
   "source": [
    "keys = metadata.keys()"
   ]
  },
  {
   "cell_type": "code",
   "execution_count": 11,
   "metadata": {},
   "outputs": [
    {
     "data": {
      "text/plain": [
       "{'author': ['Jefferson, Thomas'],\n",
       " 'formaturi': ['https://www.gutenberg.org/files/1/1-0.txt',\n",
       "  'https://www.gutenberg.org/ebooks/1.kindle.noimages',\n",
       "  'https://www.gutenberg.org/cache/epub/1/pg1.cover.small.jpg',\n",
       "  'https://www.gutenberg.org/ebooks/1.kindle.images',\n",
       "  'https://www.gutenberg.org/files/1/1-h/1-h.htm',\n",
       "  'https://www.gutenberg.org/ebooks/1.epub.images',\n",
       "  'https://www.gutenberg.org/cache/epub/1/pg1.cover.medium.jpg',\n",
       "  'https://www.gutenberg.org/files/1/1-0.zip',\n",
       "  'https://www.gutenberg.org/ebooks/1.epub.noimages',\n",
       "  'https://www.gutenberg.org/ebooks/1.rdf',\n",
       "  'https://www.gutenberg.org/ebooks/1.html.images',\n",
       "  'https://www.gutenberg.org/files/1/1-h.zip',\n",
       "  'https://www.gutenberg.org/ebooks/1.txt.utf-8'],\n",
       " 'language': ['en'],\n",
       " 'rights': ['Public domain in the USA.'],\n",
       " 'subject': ['United States -- History -- Revolution, 1775-1783 -- Sources',\n",
       "  'United States. Declaration of Independence',\n",
       "  'JK',\n",
       "  'E201'],\n",
       " 'title': ['The Declaration of Independence of the United States of America']}"
      ]
     },
     "execution_count": 11,
     "metadata": {},
     "output_type": "execute_result"
    }
   ],
   "source": [
    "metadata['1']"
   ]
  },
  {
   "cell_type": "code",
   "execution_count": 12,
   "metadata": {},
   "outputs": [],
   "source": [
    "# Convert metadata dictionary to a list of records for Pandas DataFrame\n",
    "metadata_records = [\n",
    "    {\n",
    "        \"id\": key,\n",
    "        \"author\": \", \".join(value.get(\"author\", [])),\n",
    "        \"formaturi\": \", \".join(value.get(\"formaturi\", [])),\n",
    "        \"language\": \", \".join(value.get(\"language\", [])),\n",
    "        \"rights\": \", \".join(value.get(\"rights\", [])),\n",
    "        \"subject\": \", \".join(value.get(\"subject\", [])),\n",
    "        \"title\": \", \".join(value.get(\"title\", []))\n",
    "    }\n",
    "    for key, value in metadata.items()\n",
    "]"
   ]
  },
  {
   "cell_type": "code",
   "execution_count": 13,
   "metadata": {},
   "outputs": [],
   "source": [
    "# Create a Pandas DataFrame\n",
    "metadata_df = pd.DataFrame(metadata_records)"
   ]
  },
  {
   "cell_type": "code",
   "execution_count": 14,
   "metadata": {},
   "outputs": [
    {
     "data": {
      "text/html": [
       "<div>\n",
       "<style scoped>\n",
       "    .dataframe tbody tr th:only-of-type {\n",
       "        vertical-align: middle;\n",
       "    }\n",
       "\n",
       "    .dataframe tbody tr th {\n",
       "        vertical-align: top;\n",
       "    }\n",
       "\n",
       "    .dataframe thead th {\n",
       "        text-align: right;\n",
       "    }\n",
       "</style>\n",
       "<table border=\"1\" class=\"dataframe\">\n",
       "  <thead>\n",
       "    <tr style=\"text-align: right;\">\n",
       "      <th></th>\n",
       "      <th>id</th>\n",
       "      <th>author</th>\n",
       "      <th>formaturi</th>\n",
       "      <th>language</th>\n",
       "      <th>rights</th>\n",
       "      <th>subject</th>\n",
       "      <th>title</th>\n",
       "    </tr>\n",
       "  </thead>\n",
       "  <tbody>\n",
       "    <tr>\n",
       "      <th>0</th>\n",
       "      <td>1</td>\n",
       "      <td>Jefferson, Thomas</td>\n",
       "      <td>https://www.gutenberg.org/files/1/1-0.txt, htt...</td>\n",
       "      <td>en</td>\n",
       "      <td>Public domain in the USA.</td>\n",
       "      <td>United States -- History -- Revolution, 1775-1...</td>\n",
       "      <td>The Declaration of Independence of the United ...</td>\n",
       "    </tr>\n",
       "    <tr>\n",
       "      <th>1</th>\n",
       "      <td>2</td>\n",
       "      <td>United States</td>\n",
       "      <td>https://www.gutenberg.org/cache/epub/2/pg2.cov...</td>\n",
       "      <td>en</td>\n",
       "      <td>Public domain in the USA.</td>\n",
       "      <td>JK, KF, Civil rights -- United States -- Sourc...</td>\n",
       "      <td>The United States Bill of Rights\\r\\nThe Ten Or...</td>\n",
       "    </tr>\n",
       "    <tr>\n",
       "      <th>2</th>\n",
       "      <td>3</td>\n",
       "      <td>Kennedy, John F. (John Fitzgerald)</td>\n",
       "      <td>https://www.gutenberg.org/ebooks/3.html.images...</td>\n",
       "      <td>en</td>\n",
       "      <td>Public domain in the USA.</td>\n",
       "      <td>Presidents -- United States -- Inaugural addre...</td>\n",
       "      <td>John F. Kennedy's Inaugural Address</td>\n",
       "    </tr>\n",
       "    <tr>\n",
       "      <th>3</th>\n",
       "      <td>4</td>\n",
       "      <td>Lincoln, Abraham</td>\n",
       "      <td>https://www.gutenberg.org/cache/epub/4/pg4.cov...</td>\n",
       "      <td>en</td>\n",
       "      <td>Public domain in the USA.</td>\n",
       "      <td>Soldiers' National Cemetery (Gettysburg, Pa.),...</td>\n",
       "      <td>Lincoln's Gettysburg Address\\r\\nGiven November...</td>\n",
       "    </tr>\n",
       "    <tr>\n",
       "      <th>4</th>\n",
       "      <td>5</td>\n",
       "      <td>United States</td>\n",
       "      <td>https://www.gutenberg.org/cache/epub/5/pg5.cov...</td>\n",
       "      <td>en</td>\n",
       "      <td>Public domain in the USA.</td>\n",
       "      <td>United States -- Politics and government -- 17...</td>\n",
       "      <td>The United States Constitution</td>\n",
       "    </tr>\n",
       "    <tr>\n",
       "      <th>...</th>\n",
       "      <td>...</td>\n",
       "      <td>...</td>\n",
       "      <td>...</td>\n",
       "      <td>...</td>\n",
       "      <td>...</td>\n",
       "      <td>...</td>\n",
       "      <td>...</td>\n",
       "    </tr>\n",
       "    <tr>\n",
       "      <th>68497</th>\n",
       "      <td>68498</td>\n",
       "      <td>Burtis, Thomas</td>\n",
       "      <td>https://www.gutenberg.org/files/68498/68498-h/...</td>\n",
       "      <td>en</td>\n",
       "      <td>Public domain in the USA.</td>\n",
       "      <td></td>\n",
       "      <td>The sky sheriff: The pioneer spirit lives agai...</td>\n",
       "    </tr>\n",
       "    <tr>\n",
       "      <th>68498</th>\n",
       "      <td>68499</td>\n",
       "      <td>Carter, Nicholas (House name)</td>\n",
       "      <td>https://www.gutenberg.org/files/68499/68499-0....</td>\n",
       "      <td>en</td>\n",
       "      <td>Public domain in the USA.</td>\n",
       "      <td></td>\n",
       "      <td>Nick Carter Stories No. 143, The sultan's pear...</td>\n",
       "    </tr>\n",
       "    <tr>\n",
       "      <th>68499</th>\n",
       "      <td>68500</td>\n",
       "      <td></td>\n",
       "      <td></td>\n",
       "      <td></td>\n",
       "      <td></td>\n",
       "      <td></td>\n",
       "      <td></td>\n",
       "    </tr>\n",
       "    <tr>\n",
       "      <th>68500</th>\n",
       "      <td>68501</td>\n",
       "      <td></td>\n",
       "      <td></td>\n",
       "      <td></td>\n",
       "      <td></td>\n",
       "      <td></td>\n",
       "      <td></td>\n",
       "    </tr>\n",
       "    <tr>\n",
       "      <th>68501</th>\n",
       "      <td>68502</td>\n",
       "      <td></td>\n",
       "      <td></td>\n",
       "      <td></td>\n",
       "      <td></td>\n",
       "      <td></td>\n",
       "      <td></td>\n",
       "    </tr>\n",
       "  </tbody>\n",
       "</table>\n",
       "<p>68502 rows × 7 columns</p>\n",
       "</div>"
      ],
      "text/plain": [
       "          id                              author  \\\n",
       "0          1                   Jefferson, Thomas   \n",
       "1          2                       United States   \n",
       "2          3  Kennedy, John F. (John Fitzgerald)   \n",
       "3          4                    Lincoln, Abraham   \n",
       "4          5                       United States   \n",
       "...      ...                                 ...   \n",
       "68497  68498                      Burtis, Thomas   \n",
       "68498  68499       Carter, Nicholas (House name)   \n",
       "68499  68500                                       \n",
       "68500  68501                                       \n",
       "68501  68502                                       \n",
       "\n",
       "                                               formaturi language  \\\n",
       "0      https://www.gutenberg.org/files/1/1-0.txt, htt...       en   \n",
       "1      https://www.gutenberg.org/cache/epub/2/pg2.cov...       en   \n",
       "2      https://www.gutenberg.org/ebooks/3.html.images...       en   \n",
       "3      https://www.gutenberg.org/cache/epub/4/pg4.cov...       en   \n",
       "4      https://www.gutenberg.org/cache/epub/5/pg5.cov...       en   \n",
       "...                                                  ...      ...   \n",
       "68497  https://www.gutenberg.org/files/68498/68498-h/...       en   \n",
       "68498  https://www.gutenberg.org/files/68499/68499-0....       en   \n",
       "68499                                                               \n",
       "68500                                                               \n",
       "68501                                                               \n",
       "\n",
       "                          rights  \\\n",
       "0      Public domain in the USA.   \n",
       "1      Public domain in the USA.   \n",
       "2      Public domain in the USA.   \n",
       "3      Public domain in the USA.   \n",
       "4      Public domain in the USA.   \n",
       "...                          ...   \n",
       "68497  Public domain in the USA.   \n",
       "68498  Public domain in the USA.   \n",
       "68499                              \n",
       "68500                              \n",
       "68501                              \n",
       "\n",
       "                                                 subject  \\\n",
       "0      United States -- History -- Revolution, 1775-1...   \n",
       "1      JK, KF, Civil rights -- United States -- Sourc...   \n",
       "2      Presidents -- United States -- Inaugural addre...   \n",
       "3      Soldiers' National Cemetery (Gettysburg, Pa.),...   \n",
       "4      United States -- Politics and government -- 17...   \n",
       "...                                                  ...   \n",
       "68497                                                      \n",
       "68498                                                      \n",
       "68499                                                      \n",
       "68500                                                      \n",
       "68501                                                      \n",
       "\n",
       "                                                   title  \n",
       "0      The Declaration of Independence of the United ...  \n",
       "1      The United States Bill of Rights\\r\\nThe Ten Or...  \n",
       "2                    John F. Kennedy's Inaugural Address  \n",
       "3      Lincoln's Gettysburg Address\\r\\nGiven November...  \n",
       "4                         The United States Constitution  \n",
       "...                                                  ...  \n",
       "68497  The sky sheriff: The pioneer spirit lives agai...  \n",
       "68498  Nick Carter Stories No. 143, The sultan's pear...  \n",
       "68499                                                     \n",
       "68500                                                     \n",
       "68501                                                     \n",
       "\n",
       "[68502 rows x 7 columns]"
      ]
     },
     "execution_count": 14,
     "metadata": {},
     "output_type": "execute_result"
    }
   ],
   "source": [
    "metadata_df"
   ]
  },
  {
   "cell_type": "markdown",
   "metadata": {},
   "source": [
    "# Download a sample of the books"
   ]
  },
  {
   "cell_type": "code",
   "execution_count": 17,
   "metadata": {},
   "outputs": [],
   "source": [
    "import os\n",
    "import requests\n",
    "from pathlib import Path\n",
    "import json"
   ]
  },
  {
   "cell_type": "code",
   "execution_count": 18,
   "metadata": {},
   "outputs": [],
   "source": [
    "metadata = json.load(open('gutenberg-metadata.json'))"
   ]
  },
  {
   "cell_type": "code",
   "execution_count": 19,
   "metadata": {},
   "outputs": [],
   "source": [
    "# Function to download a file\n",
    "def download_file(url, output_dir):\n",
    "    local_filename = output_dir / url.split('/')[-1]\n",
    "    with requests.get(url, stream=True) as response:\n",
    "        response.raise_for_status()\n",
    "        with open(local_filename, 'wb') as f:\n",
    "            for chunk in response.iter_content(chunk_size=8192): \n",
    "                f.write(chunk)\n",
    "    return local_filename"
   ]
  },
  {
   "cell_type": "code",
   "execution_count": 21,
   "metadata": {},
   "outputs": [],
   "source": [
    "output_dir = \"gutenberg_dataset\"\n",
    "output_dir = Path(output_dir)\n",
    "output_dir.mkdir(parents=True, exist_ok=True)"
   ]
  },
  {
   "cell_type": "code",
   "execution_count": 25,
   "metadata": {},
   "outputs": [],
   "source": [
    "key = 1\n",
    "book_data = metadata.get(str(key), {})\n",
    "\n",
    "# Get metadata\n",
    "title = book_data.get(\"title\", [\"Unknown Title\"])[0]\n",
    "author = book_data.get(\"author\", [\"Unknown Author\"])[0]\n",
    "formaturi = book_data.get(\"formaturi\", [])\n",
    "\n",
    "book_dir = output_dir / f\"{key}_{title.replace(' ', '_')}\"\n",
    "book_dir.mkdir(parents=True, exist_ok=True)"
   ]
  },
  {
   "cell_type": "code",
   "execution_count": 34,
   "metadata": {},
   "outputs": [
    {
     "data": {
      "text/plain": [
       "PosixPath('gutenberg_dataset/1_The_Declaration_of_Independence_of_the_United_States_of_America/1.txt.utf-8')"
      ]
     },
     "execution_count": 34,
     "metadata": {},
     "output_type": "execute_result"
    }
   ],
   "source": [
    "url = formaturi[-1]\n",
    "local_filename = book_dir / url.split('/')[-1]\n",
    "local_filename"
   ]
  },
  {
   "cell_type": "code",
   "execution_count": 35,
   "metadata": {},
   "outputs": [
    {
     "data": {
      "text/plain": [
       "PosixPath('gutenberg_dataset/1_The_Declaration_of_Independence_of_the_United_States_of_America/1.txt.utf-8')"
      ]
     },
     "execution_count": 35,
     "metadata": {},
     "output_type": "execute_result"
    }
   ],
   "source": [
    "download_file(url, book_dir)"
   ]
  },
  {
   "cell_type": "markdown",
   "metadata": {},
   "source": [
    "# Run multiple downloads"
   ]
  },
  {
   "cell_type": "code",
   "execution_count": 38,
   "metadata": {},
   "outputs": [],
   "source": [
    "import tqdm"
   ]
  },
  {
   "cell_type": "code",
   "execution_count": 44,
   "metadata": {},
   "outputs": [],
   "source": [
    "# Main script to download data for keys from '1' to '10'\n",
    "def download_subset(metadata, output_dir, keys):\n",
    "    output_dir = Path(output_dir)\n",
    "    output_dir.mkdir(parents=True, exist_ok=True)\n",
    "\n",
    "    for key in tqdm.tqdm(keys):\n",
    "        book_data = metadata.get(str(key), {})\n",
    "        \n",
    "        title = book_data.get(\"title\", [\"Unknown Title\"])[0] if book_data.get(\"title\") else \"Unknown Title\"\n",
    "        author = book_data.get(\"author\", [\"Unknown Author\"])[0] if book_data.get(\"author\") else \"Unknown Author\"\n",
    "        formaturi = book_data.get(\"formaturi\", [])\n",
    "        \n",
    "        print(f\"Downloading key {key}: {title} by {author}\")\n",
    "\n",
    "        book_dir = output_dir / f\"{key}_{title.replace(' ', '_')}\"\n",
    "        book_dir.mkdir(parents=True, exist_ok=True)\n",
    "\n",
    "        for url in formaturi:\n",
    "            try:\n",
    "                print(f\"  Downloading {url}\")\n",
    "                download_file(url, book_dir)\n",
    "            except Exception as e:\n",
    "                print(f\"  Failed to download {url}: {e}\")"
   ]
  },
  {
   "cell_type": "code",
   "execution_count": 45,
   "metadata": {},
   "outputs": [],
   "source": [
    "# Define keys and output directory\n",
    "keys_to_download = range(7, 11)  # Keys '1' to '10'\n",
    "output_directory = \"gutenberg_dataset\""
   ]
  },
  {
   "cell_type": "code",
   "execution_count": 46,
   "metadata": {},
   "outputs": [
    {
     "name": "stderr",
     "output_type": "stream",
     "text": [
      "  0%|          | 0/4 [00:00<?, ?it/s]"
     ]
    },
    {
     "name": "stdout",
     "output_type": "stream",
     "text": [
      "Downloading key 7: The Mayflower Compact by Unknown Author\n",
      "  Downloading https://www.gutenberg.org/ebooks/7.rdf\n",
      "  Downloading https://www.gutenberg.org/ebooks/7.epub.noimages\n",
      "  Downloading https://www.gutenberg.org/ebooks/7.epub.images\n",
      "  Downloading https://www.gutenberg.org/ebooks/7.kindle.noimages\n",
      "  Downloading https://www.gutenberg.org/ebooks/7.kindle.images\n",
      "  Downloading https://www.gutenberg.org/files/7/7-h.zip\n",
      "  Failed to download https://www.gutenberg.org/files/7/7-h.zip: 404 Client Error: Not Found for url: https://www.gutenberg.org/files/7/7-h.zip\n",
      "  Downloading https://www.gutenberg.org/cache/epub/7/pg7.cover.medium.jpg\n",
      "  Downloading https://www.gutenberg.org/files/7/7.txt\n",
      "  Failed to download https://www.gutenberg.org/files/7/7.txt: 404 Client Error: Not Found for url: https://www.gutenberg.org/files/7/7.txt\n",
      "  Downloading https://www.gutenberg.org/files/7/7-h/7-h.htm\n",
      "  Downloading https://www.gutenberg.org/cache/epub/7/pg7.cover.small.jpg\n",
      "  Downloading https://www.gutenberg.org/files/7/7.zip\n",
      "  Failed to download https://www.gutenberg.org/files/7/7.zip: 404 Client Error: Not Found for url: https://www.gutenberg.org/files/7/7.zip\n",
      "  Downloading https://www.gutenberg.org/ebooks/7.txt.utf-8\n",
      "  Downloading https://www.gutenberg.org/ebooks/7.html.images\n"
     ]
    },
    {
     "name": "stderr",
     "output_type": "stream",
     "text": [
      " 25%|██▌       | 1/4 [00:07<00:22,  7.43s/it]"
     ]
    },
    {
     "name": "stdout",
     "output_type": "stream",
     "text": [
      "Downloading key 8: Abraham Lincoln's Second Inaugural Address by Lincoln, Abraham\n",
      "  Downloading https://www.gutenberg.org/files/8/8.zip\n",
      "  Downloading https://www.gutenberg.org/ebooks/8.rdf\n",
      "  Downloading https://www.gutenberg.org/ebooks/8.html.images\n",
      "  Downloading https://www.gutenberg.org/files/8/8-h/8-h.htm\n",
      "  Downloading https://www.gutenberg.org/ebooks/8.kindle.images\n",
      "  Downloading https://www.gutenberg.org/files/8/8-h.zip\n",
      "  Downloading https://www.gutenberg.org/ebooks/8.epub.noimages\n",
      "  Downloading https://www.gutenberg.org/cache/epub/8/pg8.cover.small.jpg\n",
      "  Downloading https://www.gutenberg.org/ebooks/8.kindle.noimages\n",
      "  Downloading https://www.gutenberg.org/ebooks/8.epub.images\n",
      "  Downloading https://www.gutenberg.org/files/8/8.txt\n",
      "  Downloading https://www.gutenberg.org/ebooks/8.txt.utf-8\n",
      "  Downloading https://www.gutenberg.org/cache/epub/8/pg8.cover.medium.jpg\n"
     ]
    },
    {
     "name": "stderr",
     "output_type": "stream",
     "text": [
      " 50%|█████     | 2/4 [00:15<00:15,  7.61s/it]"
     ]
    },
    {
     "name": "stdout",
     "output_type": "stream",
     "text": [
      "Downloading key 9: Abraham Lincoln's First Inaugural Address by Lincoln, Abraham\n",
      "  Downloading https://www.gutenberg.org/files/9/9-h/9-h.htm\n",
      "  Downloading https://www.gutenberg.org/cache/epub/9/pg9.cover.small.jpg\n",
      "  Downloading https://www.gutenberg.org/files/9/9-h.zip\n",
      "  Failed to download https://www.gutenberg.org/files/9/9-h.zip: 404 Client Error: Not Found for url: https://www.gutenberg.org/files/9/9-h.zip\n",
      "  Downloading https://www.gutenberg.org/ebooks/9.rdf\n",
      "  Downloading https://www.gutenberg.org/cache/epub/9/pg9.cover.medium.jpg\n",
      "  Downloading https://www.gutenberg.org/ebooks/9.kindle.images\n",
      "  Downloading https://www.gutenberg.org/files/9/9.txt\n",
      "  Failed to download https://www.gutenberg.org/files/9/9.txt: 404 Client Error: Not Found for url: https://www.gutenberg.org/files/9/9.txt\n",
      "  Downloading https://www.gutenberg.org/ebooks/9.epub.images\n",
      "  Downloading https://www.gutenberg.org/ebooks/9.txt.utf-8\n",
      "  Downloading https://www.gutenberg.org/ebooks/9.kindle.noimages\n",
      "  Downloading https://www.gutenberg.org/files/9/9.zip\n",
      "  Failed to download https://www.gutenberg.org/files/9/9.zip: 404 Client Error: Not Found for url: https://www.gutenberg.org/files/9/9.zip\n",
      "  Downloading https://www.gutenberg.org/ebooks/9.html.images\n",
      "  Downloading https://www.gutenberg.org/ebooks/9.epub.noimages\n"
     ]
    },
    {
     "name": "stderr",
     "output_type": "stream",
     "text": [
      " 75%|███████▌  | 3/4 [00:22<00:07,  7.68s/it]"
     ]
    },
    {
     "name": "stdout",
     "output_type": "stream",
     "text": [
      "Downloading key 10: The King James Version of the Bible by Unknown Author\n",
      "  Downloading https://www.gutenberg.org/files/10/10-h/10-h.htm\n",
      "  Downloading https://www.gutenberg.org/ebooks/10.html.images\n",
      "  Downloading https://www.gutenberg.org/ebooks/10.epub.noimages\n",
      "  Downloading https://www.gutenberg.org/files/10/10-0.zip\n",
      "  Failed to download https://www.gutenberg.org/files/10/10-0.zip: 404 Client Error: Not Found for url: https://www.gutenberg.org/files/10/10-0.zip\n",
      "  Downloading https://www.gutenberg.org/ebooks/10.epub.images\n",
      "  Downloading https://www.gutenberg.org/cache/epub/10/pg10.cover.medium.jpg\n",
      "  Downloading https://www.gutenberg.org/ebooks/10.rdf\n",
      "  Downloading https://www.gutenberg.org/files/10/10-0.txt\n",
      "  Downloading https://www.gutenberg.org/cache/epub/10/pg10.cover.small.jpg\n",
      "  Downloading https://www.gutenberg.org/ebooks/10.kindle.noimages\n",
      "  Downloading https://www.gutenberg.org/ebooks/10.txt.utf-8\n",
      "  Downloading https://www.gutenberg.org/ebooks/10.kindle.images\n",
      "  Downloading https://www.gutenberg.org/files/10/10-h.zip\n"
     ]
    },
    {
     "name": "stderr",
     "output_type": "stream",
     "text": [
      "100%|██████████| 4/4 [00:35<00:00,  8.78s/it]"
     ]
    },
    {
     "name": "stdout",
     "output_type": "stream",
     "text": [
      "  Failed to download https://www.gutenberg.org/files/10/10-h.zip: 404 Client Error: Not Found for url: https://www.gutenberg.org/files/10/10-h.zip\n"
     ]
    },
    {
     "name": "stderr",
     "output_type": "stream",
     "text": [
      "\n"
     ]
    }
   ],
   "source": [
    "# Run the download\n",
    "download_subset(metadata, output_directory, keys_to_download)"
   ]
  },
  {
   "cell_type": "markdown",
   "metadata": {},
   "source": [
    "# Move to local folder"
   ]
  },
  {
   "cell_type": "code",
   "execution_count": null,
   "metadata": {},
   "outputs": [],
   "source": [
    "# mv gutenberg_dataset/* /home/david/Documents/data_science/datasets"
   ]
  }
 ],
 "metadata": {
  "kernelspec": {
   "display_name": "kr_llmfs",
   "language": "python",
   "name": "kr_llmfs"
  },
  "language_info": {
   "codemirror_mode": {
    "name": "ipython",
    "version": 3
   },
   "file_extension": ".py",
   "mimetype": "text/x-python",
   "name": "python",
   "nbconvert_exporter": "python",
   "pygments_lexer": "ipython3",
   "version": "3.10.12"
  }
 },
 "nbformat": 4,
 "nbformat_minor": 2
}
