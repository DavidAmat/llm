{
 "cells": [
  {
   "cell_type": "code",
   "execution_count": 4,
   "metadata": {},
   "outputs": [],
   "source": [
    "import argparse\n",
    "import os\n",
    "import re\n",
    "from tqdm import tqdm"
   ]
  },
  {
   "cell_type": "code",
   "execution_count": 12,
   "metadata": {},
   "outputs": [],
   "source": [
    "from utils import strip_headers"
   ]
  },
  {
   "cell_type": "code",
   "execution_count": 1,
   "metadata": {},
   "outputs": [],
   "source": [
    "def is_english(text, threshold=0.9):\n",
    "    ascii_chars = sum(1 for c in text if ord(c) < 128)\n",
    "    return ascii_chars / len(text) > threshold\n"
   ]
  },
  {
   "cell_type": "code",
   "execution_count": 28,
   "metadata": {},
   "outputs": [],
   "source": [
    "data_dir = \"/home/david/Documents/data_science/datasets/gutenberg/gutenberg_dataset\"\n",
    "output_dir = \"/home/david/Documents/data_science/datasets/gutenberg/gutenberg_preprocessed\"\n",
    "max_size_mb = 500\n",
    "separator=\"<|endoftext|>\"\n",
    "fallback_encoding=\"latin1\""
   ]
  },
  {
   "cell_type": "code",
   "execution_count": 5,
   "metadata": {},
   "outputs": [],
   "source": [
    "all_files = [os.path.join(path, name) for path, subdirs, files in os.walk(data_dir)\n",
    "                 for name in files if name.endswith((\".txt\", \".txt.utf8\"))]"
   ]
  },
  {
   "cell_type": "code",
   "execution_count": 6,
   "metadata": {},
   "outputs": [
    {
     "data": {
      "text/plain": [
       "['/home/david/Documents/data_science/datasets/gutenberg_dataset/1_The_Declaration_of_Independence_of_the_United_States_of_America/1-0.txt',\n",
       " '/home/david/Documents/data_science/datasets/gutenberg_dataset/10_The_King_James_Version_of_the_Bible/10-0.txt',\n",
       " \"/home/david/Documents/data_science/datasets/gutenberg_dataset/4_Lincoln's_Gettysburg_Address\\r\\nGiven_November_19,_1863_on_the_battlefield_near_Gettysburg,_Pennsylvania,_USA/4.txt\",\n",
       " \"/home/david/Documents/data_science/datasets/gutenberg_dataset/8_Abraham_Lincoln's_Second_Inaugural_Address/8.txt\",\n",
       " '/home/david/Documents/data_science/datasets/gutenberg_dataset/6_Give_Me_Liberty_or_Give_Me_Death/6.txt',\n",
       " '/home/david/Documents/data_science/datasets/gutenberg_dataset/2_The_United_States_Bill_of_Rights\\r\\nThe_Ten_Original_Amendments_to_the_Constitution_of_the_United_States/2.txt',\n",
       " '/home/david/Documents/data_science/datasets/gutenberg_dataset/5_The_United_States_Constitution/5.txt']"
      ]
     },
     "execution_count": 6,
     "metadata": {},
     "output_type": "execute_result"
    }
   ],
   "source": [
    "all_files"
   ]
  },
  {
   "cell_type": "code",
   "execution_count": 7,
   "metadata": {},
   "outputs": [
    {
     "name": "stdout",
     "output_type": "stream",
     "text": [
      "7 file(s) to process.\n"
     ]
    }
   ],
   "source": [
    "print(f\"{len(all_files)} file(s) to process.\")"
   ]
  },
  {
   "cell_type": "code",
   "execution_count": 11,
   "metadata": {},
   "outputs": [],
   "source": [
    "if not os.path.exists(output_dir):\n",
    "    os.makedirs(output_dir)\n",
    "\n",
    "current_content = []\n",
    "current_size = 0\n",
    "file_counter = 1"
   ]
  },
  {
   "cell_type": "markdown",
   "metadata": {},
   "source": [
    "## Try one file"
   ]
  },
  {
   "cell_type": "code",
   "execution_count": 14,
   "metadata": {},
   "outputs": [],
   "source": [
    "file_path = all_files[0]\n",
    "\n",
    "with open(file_path, \"r\", encoding=\"utf-8\") as file:\n",
    "    content = file.read()"
   ]
  },
  {
   "cell_type": "code",
   "execution_count": 16,
   "metadata": {},
   "outputs": [
    {
     "data": {
      "text/plain": [
       "118485"
      ]
     },
     "execution_count": 16,
     "metadata": {},
     "output_type": "execute_result"
    }
   ],
   "source": [
    "len(content)"
   ]
  },
  {
   "cell_type": "code",
   "execution_count": 17,
   "metadata": {},
   "outputs": [
    {
     "data": {
      "text/plain": [
       "True"
      ]
     },
     "execution_count": 17,
     "metadata": {},
     "output_type": "execute_result"
    }
   ],
   "source": [
    "is_english(content)"
   ]
  },
  {
   "cell_type": "code",
   "execution_count": 18,
   "metadata": {},
   "outputs": [],
   "source": [
    "content_stripped = strip_headers(content)"
   ]
  },
  {
   "cell_type": "code",
   "execution_count": 20,
   "metadata": {},
   "outputs": [
    {
     "data": {
      "text/plain": [
       "'\\n\\nThis is a retranscription of'"
      ]
     },
     "execution_count": 20,
     "metadata": {},
     "output_type": "execute_result"
    }
   ],
   "source": [
    "content_stripped[:30]"
   ]
  },
  {
   "cell_type": "code",
   "execution_count": 21,
   "metadata": {},
   "outputs": [
    {
     "data": {
      "text/plain": [
       "'\\n*** START OF THE PROJECT GUTE'"
      ]
     },
     "execution_count": 21,
     "metadata": {},
     "output_type": "execute_result"
    }
   ],
   "source": [
    "content[:30]"
   ]
  },
  {
   "cell_type": "code",
   "execution_count": 22,
   "metadata": {},
   "outputs": [],
   "source": [
    "# Regular expression to replace multiple blank lines with a single blank line\n",
    "content = re.sub(r'\\n\\s*\\n', '\\n\\n', content)\n",
    "estimated_size = len(content.encode(\"utf-8\"))"
   ]
  },
  {
   "cell_type": "code",
   "execution_count": 23,
   "metadata": {},
   "outputs": [
    {
     "data": {
      "text/plain": [
       "118353"
      ]
     },
     "execution_count": 23,
     "metadata": {},
     "output_type": "execute_result"
    }
   ],
   "source": [
    "estimated_size"
   ]
  },
  {
   "cell_type": "code",
   "execution_count": 24,
   "metadata": {},
   "outputs": [
    {
     "data": {
      "text/plain": [
       "False"
      ]
     },
     "execution_count": 24,
     "metadata": {},
     "output_type": "execute_result"
    }
   ],
   "source": [
    "current_size + estimated_size > max_size_mb * 1024 * 1024"
   ]
  },
  {
   "cell_type": "code",
   "execution_count": 25,
   "metadata": {},
   "outputs": [
    {
     "data": {
      "text/plain": [
       "'/home/david/Documents/data_science/datasets/gutenberg_preprocessed/combined_1.txt'"
      ]
     },
     "execution_count": 25,
     "metadata": {},
     "output_type": "execute_result"
    }
   ],
   "source": [
    "target_file_path = os.path.join(output_dir, f\"combined_{file_counter}.txt\")\n",
    "target_file_path"
   ]
  },
  {
   "cell_type": "markdown",
   "metadata": {},
   "source": [
    "# Pre-process all files"
   ]
  },
  {
   "cell_type": "code",
   "execution_count": 26,
   "metadata": {},
   "outputs": [
    {
     "name": "stderr",
     "output_type": "stream",
     "text": [
      "100%|██████████| 7/7 [00:00<00:00, 24.91it/s]\n"
     ]
    }
   ],
   "source": [
    "for file_path in tqdm(all_files):\n",
    "    try:\n",
    "        with open(file_path, \"r\", encoding=\"utf-8\") as file:\n",
    "            content = file.read()\n",
    "    except UnicodeDecodeError:\n",
    "        # Attempt to read the file with a fallback encoding\n",
    "        tqdm.write(f\"Warning: UnicodeDecodeError encountered. Trying fallback encoding for {file_path}\")\n",
    "        with open(file_path, \"r\", encoding=fallback_encoding) as file:\n",
    "            content = file.read()\n",
    "\n",
    "    if not is_english(content):\n",
    "        tqdm.write(f\"Skipping {file_path} as it does not contain primarily English text.\")\n",
    "        continue\n",
    "    content = strip_headers(content)\n",
    "\n",
    "    # Regular expression to replace multiple blank lines with a single blank line\n",
    "    content = re.sub(r'\\n\\s*\\n', '\\n\\n', content)\n",
    "    estimated_size = len(content.encode(\"utf-8\"))\n",
    "\n",
    "    if current_size + estimated_size > max_size_mb * 1024 * 1024:\n",
    "        target_file_path = os.path.join(output_dir, f\"combined_{file_counter}.txt\")\n",
    "        with open(target_file_path, \"w\", encoding=\"utf-8\") as target_file:\n",
    "            target_file.write(separator.join(current_content))\n",
    "        file_counter += 1\n",
    "        current_content = [content]\n",
    "        current_size = estimated_size\n",
    "    else:\n",
    "        current_content.append(content)\n",
    "        current_size += estimated_size\n",
    "\n",
    "if current_content:\n",
    "    target_file_path = os.path.join(output_dir, f\"combined_{file_counter}.txt\")\n",
    "    with open(target_file_path, \"w\", encoding=\"utf-8\") as target_file:\n",
    "        target_file.write(separator.join(current_content))"
   ]
  },
  {
   "cell_type": "code",
   "execution_count": 29,
   "metadata": {},
   "outputs": [
    {
     "data": {
      "text/plain": [
       "'/home/david/Documents/data_science/datasets/gutenberg/gutenberg_preprocessed'"
      ]
     },
     "execution_count": 29,
     "metadata": {},
     "output_type": "execute_result"
    }
   ],
   "source": [
    "# The resulting files are saved in:\n",
    "output_dir"
   ]
  },
  {
   "cell_type": "code",
   "execution_count": 33,
   "metadata": {},
   "outputs": [
    {
     "name": "stdout",
     "output_type": "stream",
     "text": [
      "total 4.3M\n",
      "-rw-rw-r-- 1 david david 4.3M Dec 16 19:50 combined_1.txt\n"
     ]
    }
   ],
   "source": [
    "!ls -lh '/home/david/Documents/data_science/datasets/gutenberg/gutenberg_preprocessed'\n"
   ]
  },
  {
   "cell_type": "code",
   "execution_count": 34,
   "metadata": {},
   "outputs": [
    {
     "name": "stdout",
     "output_type": "stream",
     "text": [
      "1 file(s) saved in /home/david/Documents/data_science/datasets/gutenberg/gutenberg_preprocessed\n"
     ]
    }
   ],
   "source": [
    "print(f\"{file_counter} file(s) saved in {os.path.abspath(output_dir)}\")"
   ]
  },
  {
   "cell_type": "code",
   "execution_count": null,
   "metadata": {},
   "outputs": [],
   "source": []
  }
 ],
 "metadata": {
  "kernelspec": {
   "display_name": "kr_llmfs",
   "language": "python",
   "name": "kr_llmfs"
  },
  "language_info": {
   "codemirror_mode": {
    "name": "ipython",
    "version": 3
   },
   "file_extension": ".py",
   "mimetype": "text/x-python",
   "name": "python",
   "nbconvert_exporter": "python",
   "pygments_lexer": "ipython3",
   "version": "3.10.12"
  }
 },
 "nbformat": 4,
 "nbformat_minor": 2
}
