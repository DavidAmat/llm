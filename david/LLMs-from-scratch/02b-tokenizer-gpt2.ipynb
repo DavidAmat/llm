{
 "cells": [
  {
   "cell_type": "code",
   "execution_count": 5,
   "metadata": {},
   "outputs": [],
   "source": [
    "from importlib import reload"
   ]
  },
  {
   "cell_type": "code",
   "execution_count": 11,
   "metadata": {},
   "outputs": [],
   "source": [
    "from scripts import gpt2bpe as gp\n",
    "gp = reload(gp)\n",
    "\n",
    "# Methods\n",
    "encoder = gp.Encoder\n",
    "get_encoder = gp.get_encoder\n",
    "download_vocab = gp.download_vocab"
   ]
  },
  {
   "cell_type": "code",
   "execution_count": 12,
   "metadata": {},
   "outputs": [
    {
     "name": "stdout",
     "output_type": "stream",
     "text": [
      "Downloading vocabulary...\n"
     ]
    },
    {
     "name": "stderr",
     "output_type": "stream",
     "text": [
      "Fetching encoder.json: 1.04Mit [00:01, 908kit/s]                                                    \n",
      "Fetching vocab.bpe: 457kit [00:00, 687kit/s]                                                        \n"
     ]
    }
   ],
   "source": [
    "# Step 1: Download vocabulary\n",
    "print(\"Downloading vocabulary...\")\n",
    "download_vocab()"
   ]
  },
  {
   "cell_type": "code",
   "execution_count": 16,
   "metadata": {},
   "outputs": [],
   "source": [
    "# Step 2: Initialize the encoder\n",
    "models_dir = \"\"\n",
    "model_name = \"gpt2_model\"\n",
    "encoder = get_encoder(model_name, models_dir)"
   ]
  },
  {
   "cell_type": "code",
   "execution_count": 18,
   "metadata": {},
   "outputs": [
    {
     "name": "stdout",
     "output_type": "stream",
     "text": [
      "\n",
      "Vocabulary Size: 50257\n",
      "\n",
      "Sample Vocabulary:\n",
      "Token: !, Index: 0\n",
      "Token: \", Index: 1\n",
      "Token: #, Index: 2\n",
      "Token: $, Index: 3\n",
      "Token: %, Index: 4\n",
      "Token: &, Index: 5\n",
      "Token: ', Index: 6\n",
      "Token: (, Index: 7\n",
      "Token: ), Index: 8\n",
      "Token: *, Index: 9\n",
      "Token: +, Index: 10\n"
     ]
    }
   ],
   "source": [
    "# Step 3: Inspect the vocabulary\n",
    "print(\"\\nVocabulary Size:\", len(encoder.encoder))\n",
    "print(\"\\nSample Vocabulary:\")\n",
    "for i, (token, idx) in enumerate(encoder.encoder.items()):\n",
    "    print(f\"Token: {token}, Index: {idx}\")\n",
    "    if i >= 10:\n",
    "        break\n"
   ]
  },
  {
   "cell_type": "code",
   "execution_count": 20,
   "metadata": {},
   "outputs": [
    {
     "data": {
      "text/plain": [
       "11006"
      ]
     },
     "execution_count": 20,
     "metadata": {},
     "output_type": "execute_result"
    }
   ],
   "source": [
    "encoder.encoder[\"David\"]"
   ]
  },
  {
   "cell_type": "code",
   "execution_count": 21,
   "metadata": {},
   "outputs": [
    {
     "name": "stdout",
     "output_type": "stream",
     "text": [
      "\n",
      "Encoded tokens: [1212, 318, 257, 2829, 1332, 6827, 329, 262, 402, 11571, 12, 17, 11241, 7509, 13]\n"
     ]
    }
   ],
   "source": [
    "# Step 4: Test the tokenizer\n",
    "sample_text = \"This is a simple test sentence for the GPT-2 tokenizer.\"\n",
    "\n",
    "# Encode the text\n",
    "encoded = encoder.encode(sample_text)\n",
    "print(\"\\nEncoded tokens:\", encoded)\n"
   ]
  },
  {
   "cell_type": "code",
   "execution_count": 22,
   "metadata": {},
   "outputs": [
    {
     "name": "stdout",
     "output_type": "stream",
     "text": [
      "\n",
      "Decoded text: This is a simple test sentence for the GPT-2 tokenizer.\n"
     ]
    }
   ],
   "source": [
    "# Decode back to text\n",
    "decoded = encoder.decode(encoded)\n",
    "print(\"\\nDecoded text:\", decoded)"
   ]
  },
  {
   "cell_type": "code",
   "execution_count": null,
   "metadata": {},
   "outputs": [],
   "source": []
  }
 ],
 "metadata": {
  "kernelspec": {
   "display_name": "kr_llmfs",
   "language": "python",
   "name": "kr_llmfs"
  },
  "language_info": {
   "codemirror_mode": {
    "name": "ipython",
    "version": 3
   },
   "file_extension": ".py",
   "mimetype": "text/x-python",
   "name": "python",
   "nbconvert_exporter": "python",
   "pygments_lexer": "ipython3",
   "version": "3.10.12"
  }
 },
 "nbformat": 4,
 "nbformat_minor": 2
}
